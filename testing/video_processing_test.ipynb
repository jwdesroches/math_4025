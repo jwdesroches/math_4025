{
 "cells": [
  {
   "cell_type": "code",
   "execution_count": 1,
   "metadata": {},
   "outputs": [],
   "source": [
    "# imports\n",
    "import numpy as np\n",
    "import matplotlib.pyplot as plt\n",
    "import scipy"
   ]
  },
  {
   "cell_type": "code",
   "execution_count": null,
   "metadata": {},
   "outputs": [],
   "source": [
    "import imageio\n",
    "import numpy as np\n",
    "\n",
    "def extract_frames(video_path):\n",
    "    return np.array([imageio.imread(video_path, 'I')[..., :3] for _ in imageio.get_reader(video_path)])\n",
    "\n",
    "if __name__ == \"__main__\":\n",
    "    video_path = 'your_video_file.mpg'\n",
    "    \n",
    "    try:\n",
    "        video_frames = extract_frames(video_path)\n",
    "        print(f\"Number of frames: {video_frames.shape[0]}\")\n",
    "        print(f\"Frame resolution: {video_frames.shape[1]}x{video_frames.shape[2]}\")\n",
    "    except Exception as e:\n",
    "        print(f\"An error occurred: {e}\")\n"
   ]
  }
 ],
 "metadata": {
  "kernelspec": {
   "display_name": "math_4025",
   "language": "python",
   "name": "python3"
  },
  "language_info": {
   "codemirror_mode": {
    "name": "ipython",
    "version": 3
   },
   "file_extension": ".py",
   "mimetype": "text/x-python",
   "name": "python",
   "nbconvert_exporter": "python",
   "pygments_lexer": "ipython3",
   "version": "3.12.1"
  }
 },
 "nbformat": 4,
 "nbformat_minor": 2
}
